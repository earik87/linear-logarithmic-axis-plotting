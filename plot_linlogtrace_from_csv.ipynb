{
 "cells": [
  {
   "cell_type": "code",
   "execution_count": 1,
   "metadata": {},
   "outputs": [
    {
     "output_type": "error",
     "ename": "Error",
     "evalue": "Jupyter cannot be started. Error attempting to locate jupyter: Data Science libraries jupyter and notebook are not installed in interpreter Python 3.8.3 64-bit.",
     "traceback": [
      "Error: Jupyter cannot be started. Error attempting to locate jupyter: Data Science libraries jupyter and notebook are not installed in interpreter Python 3.8.3 64-bit.",
      "at b.startServer (c:\\Users\\earik\\.vscode\\extensions\\ms-python.python-2020.6.88468\\out\\client\\extension.js:48:288041)",
      "at processTicksAndRejections (internal/process/task_queues.js:85:5)",
      "at async b.createServer (c:\\Users\\earik\\.vscode\\extensions\\ms-python.python-2020.6.88468\\out\\client\\extension.js:48:287483)",
      "at async connect (c:\\Users\\earik\\.vscode\\extensions\\ms-python.python-2020.6.88468\\out\\client\\extension.js:48:411428)",
      "at async P.ensureConnectionAndNotebookImpl (c:\\Users\\earik\\.vscode\\extensions\\ms-python.python-2020.6.88468\\out\\client\\extension.js:24:434785)",
      "at async P.ensureConnectionAndNotebook (c:\\Users\\earik\\.vscode\\extensions\\ms-python.python-2020.6.88468\\out\\client\\extension.js:24:434463)",
      "at async P.clearResult (c:\\Users\\earik\\.vscode\\extensions\\ms-python.python-2020.6.88468\\out\\client\\extension.js:24:430389)",
      "at async P.reexecuteCell (c:\\Users\\earik\\.vscode\\extensions\\ms-python.python-2020.6.88468\\out\\client\\extension.js:24:416858)",
      "at async P.reexecuteCells (c:\\Users\\earik\\.vscode\\extensions\\ms-python.python-2020.6.88468\\out\\client\\extension.js:24:413661)"
     ]
    }
   ],
   "source": [
    "# Plotting a time-resolved data in Linear-Logarithmic time scale\n",
    "# Data shown here belongs to time-resolved Vis-Vis Spectroscopy of PYP.\n",
    "\n",
    "# declarations\n",
    "import matplotlib.pyplot as plt\n",
    "import pandas as pd \n",
    "from mpl_toolkits.axes_grid1 import make_axes_locatable\n",
    "\n",
    "def main():\n",
    "\n",
    "    df = pd.read_csv('d380trace.csv', header=None) #data frame data type, \n",
    "    # the file (d380trace.csv) should be located within the same folder of python codes.\n",
    "\n",
    "    x1=df.iloc[:,0] #slicing first column of data as x-axis (which is time)\n",
    "    y1=df.iloc[:,1] #slicing second column of data as y-axis (which is absorbance)\n",
    "\n",
    "    # Plotting Logarithmic Part.\n",
    "    axMain = plt.subplot(111)\n",
    "    axMain.plot(x1,y1, color ='blue', linestyle='solid', \n",
    "    marker='*', markersize=4)\n",
    "    axMain.set_xscale('log')\n",
    "    axMain.set_xlim((5, 500000000))\n",
    "    axMain.spines['left'].set_visible(False)\n",
    "    axMain.yaxis.set_ticks_position('right')\n",
    "    axMain.yaxis.set_visible(False)\n",
    "\n",
    "    # Plotting Linear Part.\n",
    "    divider = make_axes_locatable(axMain)\n",
    "    axLin = divider.append_axes(\"left\", size=1.5, pad=0, sharey=axMain)\n",
    "    axLin.set_xscale('linear')\n",
    "    axLin.set_xlim((-2, 5))\n",
    "    axLin.plot(x1,y1, color ='blue', linestyle='solid', \n",
    "    marker='*', markersize=4)\n",
    "    axLin.spines['right'].set_visible(False)\n",
    "    axLin.yaxis.set_ticks_position('left')\n",
    "    plt.setp(axLin.get_xticklabels(), visible=True)\n",
    "\n",
    "    # Displaying Labels and Titles.\n",
    "    plt.xlabel('Time (ps)')\n",
    "    plt.ylabel('Abs (∆mOD)')\n",
    "    plt.title('LinLog Time Axis')\n",
    "    plt.show();\n",
    "\n",
    "main()"
   ]
  }
 ],
 "metadata": {
  "kernelspec": {
   "display_name": "Python 3",
   "language": "python",
   "name": "python3"
  },
  "language_info": {
   "codemirror_mode": {
    "name": "ipython",
    "version": 3
   },
   "file_extension": ".py",
   "mimetype": "text/x-python",
   "name": "python",
   "nbconvert_exporter": "python",
   "pygments_lexer": "ipython3",
   "version": "3.7.6"
  }
 },
 "nbformat": 4,
 "nbformat_minor": 4
}